{
 "cells": [
  {
   "cell_type": "markdown",
   "id": "43a6f1d6-e453-4442-81dd-4b2adf8d09f0",
   "metadata": {},
   "source": [
    "# Pipeline para Machine Learning"
   ]
  },
  {
   "cell_type": "markdown",
   "id": "fe1e6f51-975d-4614-a54b-af754da8d9ff",
   "metadata": {},
   "source": [
    "## 1. Importando os pacotes"
   ]
  },
  {
   "cell_type": "code",
   "execution_count": null,
   "id": "95364d8b-7c65-4592-b129-56b0ea62916a",
   "metadata": {},
   "outputs": [],
   "source": [
    "import joblib\n",
    "import numpy as np\n",
    "import pandas as pd\n",
    "from sklearn.model_selection import train_test_split\n",
    "from sklearn.preprocessing import StandardScaler, OneHotEncoder\n",
    "from sklearn.pipeline import Pipeline\n",
    "from sklearn.compose import ColumnTransformer\n",
    "from sklearn.ensemble import RandomForestClassifier\n",
    "from sklearn.metrics import accuracy_score"
   ]
  },
  {
   "cell_type": "markdown",
   "id": "5cf64601-e196-4c11-82b2-9592542628d5",
   "metadata": {},
   "source": [
    "## 2. Carregando e preparando os dados"
   ]
  },
  {
   "cell_type": "code",
   "execution_count": null,
   "id": "0b9d54cb-aa6a-4e1e-90e8-0cc1847f6517",
   "metadata": {},
   "outputs": [],
   "source": [
    "# Carregando os dados - dataset\n",
    "df = pd.read_csv(\"https://raw.githubusercontent.com/datasciencedojo/datasets/master/titanic.csv\")\n",
    "\n",
    "# Selecionando os atributos mais relevantes\n",
    "features = ['Pclass', 'Sex', 'Age', 'SibSp', 'Parch', 'Fare', 'Embarked']\n",
    "df = df[features + ['Survived']].dropna()  # Removendo as colunas com valores ausentes\n",
    "\n",
    "# Mostrando os primeiros 5 registros\n",
    "print(df.head())"
   ]
  },
  {
   "cell_type": "markdown",
   "id": "ec35159a-8bac-48ba-9685-7abfc6df8808",
   "metadata": {
    "jp-MarkdownHeadingCollapsed": true
   },
   "source": [
    "### Explicando os atributos utilizados"
   ]
  },
  {
   "cell_type": "markdown",
   "id": "5870c0b7-e1c0-40a7-adcf-0a50c64e290a",
   "metadata": {},
   "source": [
    "1. Pclass (Passenger Class)\n",
    "<br>Tipo: Categórica (mas geralmente tratada como numérica: 1, 2, 3)\n",
    "<br>Descrição: Classe do bilhete do passageiro.\n",
    "<br>1 = Primeira classe (mais rica)\n",
    "<br>2 = Segunda classe\n",
    "<br>3 = Terceira classe (mais pobre)\n",
    "<br>Relevância: Passageiros da 1ª classe tiveram mais chance de sobreviver.\n",
    "<br>\n",
    "<br>\n",
    "3. Sex\n",
    "<br>Tipo: Categórica (male, female)\n",
    "<br>Descrição: Sexo do passageiro.\n",
    "<br>Relevância: Mulheres tiveram prioridade nos botes salva-vidas, então o sexo influenciou muito na sobrevivência.\n",
    "<br><br>\n",
    "4. Age\n",
    "<br>Tipo: Numérica (contínua)\n",
    "<br>Descrição: Idade do passageiro.\n",
    "<br>Relevância: Crianças pequenas também tiveram prioridade; além disso, idade pode influenciar na capacidade de reagir em uma emergência.\n",
    "<br><br>\n",
    "5. SibSp (Siblings/Spouses Aboard)\n",
    "<br>Tipo: Numérica (inteira)\n",
    "<br>Descrição: Quantidade de irmãos ou cônjuges a bordo com o passageiro.\n",
    "<br>SibSp = 0 → Estava sozinho.\n",
    "<br>SibSp = 1 → Com um irmão(a) ou esposo(a), etc.\n",
    "<br>Relevância: Estar com familiares pode ter influenciado nas decisões durante o desastre.\n",
    "<br><br>\n",
    "7. Parch (Parents/Children Aboard)\n",
    "<br>Tipo: Numérica (inteira)\n",
    "<br>Descrição: Número de pais ou filhos a bordo.\n",
    "<br>Parch = 0 → Sem pais/filhos com ele(a).\n",
    "<br>Relevância: Assim como SibSp, pode indicar se a pessoa estava em família — o que afeta seu comportamento.\n",
    "<br><br>\n",
    "9. Fare\n",
    "<br>Tipo: Numérica (contínua)\n",
    "<br>Descrição: Valor da passagem paga pelo passageiro.\n",
    "<br>Relevância: Em geral, quem pagou mais pode ter tido acesso a melhores cabines (relacionado à Pclass), o que pode impactar na chance de sobreviver.\n",
    "<br><br>\n",
    "11. Embarked (Port of Embarkation)\n",
    "<br>Tipo: Categórica (C, Q, S)\n",
    "<br>Descrição: Porto de embarque do passageiro:\n",
    "<br>C = Cherbourg (França)\n",
    "<br>Q = Queenstown (Irlanda)\n",
    "<br>S = Southampton (Inglaterra)\n",
    "<br>Relevância: O porto de embarque pode estar relacionado à classe social ou localização da cabine."
   ]
  },
  {
   "cell_type": "markdown",
   "id": "9f7a6b85-f7ec-45a6-a118-b8f705cf3b54",
   "metadata": {},
   "source": [
    "## 3. Definindo as etapas do pré-processamento"
   ]
  },
  {
   "cell_type": "code",
   "execution_count": null,
   "id": "e886d5f6-e64d-4517-831a-3a84e026635a",
   "metadata": {},
   "outputs": [],
   "source": [
    "# Definindo os atributos numéricos e categóricos\n",
    "num_features = ['Age', 'SibSp', 'Parch', 'Fare']\n",
    "cat_features = ['Pclass', 'Sex', 'Embarked']\n",
    "\n",
    "# Definindo as normalizações do pré-processamento\n",
    "num_transformer = StandardScaler()  # Todos os valores numéricos na mesma escala\n",
    "cat_transformer = OneHotEncoder(handle_unknown='ignore')  # Todos as valores categóricos codificados com o One-hot encoding\n",
    "\n",
    "# Combinando as normalizações em um objeto de pré-processamento (preprocessor)\n",
    "preprocessor = ColumnTransformer([\n",
    "    ('num', num_transformer, num_features),\n",
    "    ('cat', cat_transformer, cat_features)\n",
    "])"
   ]
  },
  {
   "cell_type": "markdown",
   "id": "af46a597-9b83-4763-b048-123236eb7fd3",
   "metadata": {
    "jp-MarkdownHeadingCollapsed": true
   },
   "source": [
    "### 3.1 Exemplos de normalização"
   ]
  },
  {
   "cell_type": "markdown",
   "id": "c7b7afd2-587d-4b3b-8529-b2cc40b7603d",
   "metadata": {},
   "source": [
    "🧾 Dados Originais (Antes do Pré-processamento)\n",
    "\n",
    "| Age | SibSp | Parch | Fare  | Pclass | Sex   | Embarked |\n",
    "|-----|--------|-------|--------|--------|--------|-----------|\n",
    "| 22  | 1      | 0     | 7.25   | 3      | male  | S         |\n",
    "| 38  | 1      | 0     | 71.28  | 1      | female| C         |\n",
    "| 26  | 0      | 0     | 7.92   | 3      | female| Q         |\n",
    "| 35  | 1      | 0     | 53.10  | 1      | male  | S         |\n",
    "| 28  | 0      | 0     | 8.05   | 3      | male  | S         |\n"
   ]
  },
  {
   "cell_type": "markdown",
   "id": "fa4ff32d-7904-48da-b635-3212352c6125",
   "metadata": {},
   "source": [
    "⚙️ Dados Após o Pré-processamento\n",
    "\n",
    " Numéricos transformados com `StandardScaler`\n",
    "\n",
    "| Age     | SibSp   | Parch  | Fare     |\n",
    "|---------|---------|--------|----------|\n",
    "| -1.20   | 0.87    | 0.00   | -0.82    |\n",
    "| 1.56    | 0.87    | 0.00   | 1.87     |\n",
    "| -0.52   | -1.16   | 0.00   | -0.76    |\n",
    "| 0.96    | 0.87    | 0.00   | 1.17     |\n",
    "| -0.80   | -1.16   | 0.00   | -0.73    |\n",
    "\n",
    " 🔹 Categóricos transformados com `OneHotEncoder`\n",
    "\n",
    "| Pclass_1 | Pclass_3 | Sex_female | Sex_male | Embarked_C | Embarked_Q | Embarked_S |\n",
    "|----------|----------|------------|----------|------------|------------|-------------|\n",
    "| 0        | 1        | 0          | 1        | 0          | 0          | 1           |\n",
    "| 1        | 0        | 1          | 0        | 1          | 0          | 0           |\n",
    "| 0        | 1        | 1          | 0        | 0          | 1          | 0           |\n",
    "| 1        | 0        | 0          | 1        | 0          | 0          | 1           |\n",
    "| 0        | 1        | 0          | 1        | 0          | 0          | 1           |\n",
    "\n",
    " ✅ Dados Finais Concatenados\n",
    "\n",
    "| Age   | SibSp | Parch | Fare  | Pclass_1 | Pclass_3 | Sex_female | Sex_male | Embarked_C | Embarked_Q | Embarked_S |\n",
    "|-------|--------|--------|--------|------------|------------|-------------|------------|---------------|---------------|---------------|\n",
    "| -1.20 | 0.87   | 0.00   | -0.82 | 0          | 1          | 0           | 1          | 0             | 0             | 1             |\n",
    "| 1.56  | 0.87   | 0.00   | 1.87  | 1          | 0          | 1           | 0          | 1             | 0             | 0             |\n",
    "| -0.52 | -1.16  | 0.00   | -0.76 | 0          | 1          | 1           | 0          | 0             | 1             | 0             |\n",
    "| 0.96  | 0.87   | 0.00   | 1.17  | 1          | 0          | 0           | 1          | 0             | 0             | 1             |\n",
    "| -0.80 | -1.16  | 0.00   | -0.73 | 0          | 1          | 0           | 1          | 0             | 0             | 1             |\n"
   ]
  },
  {
   "cell_type": "markdown",
   "id": "b30ce83e-8323-4133-93cd-9ebe5463467c",
   "metadata": {},
   "source": [
    "## 4. Dividindo os dados para treinamento e teste"
   ]
  },
  {
   "cell_type": "code",
   "execution_count": null,
   "id": "7d121855-4e63-4921-8aa4-e24c3472956d",
   "metadata": {},
   "outputs": [],
   "source": [
    "# Definindo a varável algo e os atributos\n",
    "X = df[features]\n",
    "y = df['Survived']\n",
    "\n",
    "# Dividindo entre treino e teste\n",
    "X_train, X_test, y_train, y_test = train_test_split(X, y, test_size=0.2, random_state=42)\n",
    "\n",
    "# Mostrando dimensões de linhas e colunas dos dados\n",
    "print(f\"Dimensões do conjunto de treino - linhas: {X_train.shape[0]} e colunas: {X_train.shape[1]}\")\n",
    "print(f\"Dimensões do conjunto de teste - linhas: {X_test.shape[0]} e colunas: {X_test.shape[1]}\")"
   ]
  },
  {
   "cell_type": "markdown",
   "id": "21b76969-7218-4b2b-b4ea-2eeef8520964",
   "metadata": {},
   "source": [
    "## 5. Criando e treinando o modelo"
   ]
  },
  {
   "cell_type": "code",
   "execution_count": null,
   "id": "73b03e79-6753-4aa1-bf23-99f01cf375bb",
   "metadata": {},
   "outputs": [],
   "source": [
    "# Definindo o pipeline\n",
    "pipeline = Pipeline([\n",
    "    ('preprocessor', preprocessor),  # Transformação dos dados\n",
    "    ('classifier', RandomForestClassifier(n_estimators=100, random_state=42))  # Modelo de Machine Learning\n",
    "])\n",
    "\n",
    "# Treinando o modelo\n",
    "pipeline.fit(X_train, y_train)\n",
    "print(\"Treinamento do modelo completo!\")"
   ]
  },
  {
   "cell_type": "markdown",
   "id": "f5768f21-d5c8-4b10-9cb1-5060707969f4",
   "metadata": {},
   "source": [
    "## 6. Avaliando o modelo"
   ]
  },
  {
   "cell_type": "code",
   "execution_count": null,
   "id": "dd5810f4-4ebe-462c-b6f1-32285196ee3f",
   "metadata": {},
   "outputs": [],
   "source": [
    "# Fazendo as predições\n",
    "y_pred = pipeline.predict(X_test)\n",
    "\n",
    "# Verificando a acurácia\n",
    "accuracy = accuracy_score(y_test, y_pred)\n",
    "# Proporção de previsões corretas em relação ao total de previsões feitas.\n",
    "print(f\"Acurácia do modelo: {accuracy:.2f} ou  {accuracy* 100:.2f} %\") "
   ]
  },
  {
   "cell_type": "markdown",
   "id": "64ccda1d-f2b8-48cc-8877-ecf9a1aa7b44",
   "metadata": {},
   "source": [
    "## 7. Persistindo e carregando o modelo"
   ]
  },
  {
   "cell_type": "code",
   "execution_count": null,
   "id": "9cf965ee-4463-4ee1-8b7c-22d395dd4e86",
   "metadata": {},
   "outputs": [],
   "source": [
    "# Persistindo a pipeline com o pré-processamento e o modelo inclusos\n",
    "joblib.dump(pipeline, 'modelo/modelo_titanic.pkl')\n",
    "\n",
    "# Carregando a pipeline com o pré-processamento e o modelo inclusos\n",
    "loaded_pipeline = joblib.load('modelo/modelo_titanic.pkl')"
   ]
  },
  {
   "cell_type": "markdown",
   "id": "710a93dc-4db7-4ce9-9f4f-69eed5fc2b7a",
   "metadata": {},
   "source": [
    "## 8. Fazendo a predição com o modelo carregado"
   ]
  },
  {
   "cell_type": "code",
   "execution_count": null,
   "id": "6fcf37c2-1c97-4026-9e81-3d8b2f581aa3",
   "metadata": {},
   "outputs": [],
   "source": [
    "# Fazendo a predição com a pipeline carregada\n",
    "sample_data = pd.DataFrame([{'Pclass': 3, 'Sex': 'male', 'Age': 25, 'SibSp': 0, 'Parch': 0, 'Fare': 7.5, 'Embarked': 'S'}])\n",
    "prediction = loaded_pipeline.predict(sample_data)\n",
    "print(f\"Predição: {'Sobreviveu' if prediction[0] == 1 else 'Não sobreviveu'}\")"
   ]
  }
 ],
 "metadata": {
  "kernelspec": {
   "display_name": "Python 3 (ipykernel)",
   "language": "python",
   "name": "python3"
  },
  "language_info": {
   "codemirror_mode": {
    "name": "ipython",
    "version": 3
   },
   "file_extension": ".py",
   "mimetype": "text/x-python",
   "name": "python",
   "nbconvert_exporter": "python",
   "pygments_lexer": "ipython3",
   "version": "3.11.11"
  }
 },
 "nbformat": 4,
 "nbformat_minor": 5
}
